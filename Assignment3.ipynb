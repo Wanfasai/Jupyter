{
 "cells": [
  {
   "cell_type": "markdown",
   "id": "04a48597",
   "metadata": {},
   "source": [
    "# Assignment 3"
   ]
  },
  {
   "cell_type": "markdown",
   "id": "a658eaa4",
   "metadata": {},
   "source": [
    "## Name : Wanfasai Pracharoj"
   ]
  },
  {
   "cell_type": "markdown",
   "id": "326db6ed",
   "metadata": {},
   "source": [
    "### Date : 29.09.2022"
   ]
  },
  {
   "cell_type": "markdown",
   "id": "9a3d9fd7",
   "metadata": {},
   "source": [
    "### Exercise 1"
   ]
  },
  {
   "cell_type": "code",
   "execution_count": 9,
   "id": "ccd2e3f1",
   "metadata": {},
   "outputs": [
    {
     "data": {
      "text/plain": [
       "30"
      ]
     },
     "execution_count": 9,
     "metadata": {},
     "output_type": "execute_result"
    }
   ],
   "source": [
    "x = lambda num1,num2: num1*num2\n",
    "x(5,6)"
   ]
  },
  {
   "cell_type": "markdown",
   "id": "19294314",
   "metadata": {},
   "source": [
    "### Exercise 2"
   ]
  },
  {
   "cell_type": "code",
   "execution_count": 18,
   "id": "f526c91a",
   "metadata": {},
   "outputs": [
    {
     "name": "stdout",
     "output_type": "stream",
     "text": [
      "Area of circle = 314.159265\n"
     ]
    }
   ],
   "source": [
    "def findArea(r) :\n",
    "    PI=3.141592653589793\n",
    "    return PI*(r*r)\n",
    "print('Area of circle = %.6f' % findArea(10))"
   ]
  },
  {
   "cell_type": "markdown",
   "id": "1e3506fc",
   "metadata": {},
   "source": [
    "### Exercise 3"
   ]
  },
  {
   "cell_type": "code",
   "execution_count": 31,
   "id": "106d06da",
   "metadata": {},
   "outputs": [
    {
     "name": "stdout",
     "output_type": "stream",
     "text": [
      "0.4\n"
     ]
    }
   ],
   "source": [
    "def classicoperations(a, b):\n",
    "    return a / b\n",
    "    return a * b\n",
    "    return a + b\n",
    "    return a - b\n",
    "\n",
    "print(classicoperations(2, 5))"
   ]
  },
  {
   "cell_type": "markdown",
   "id": "ec6788e4",
   "metadata": {},
   "source": [
    "### Exercise 4"
   ]
  },
  {
   "cell_type": "code",
   "execution_count": 3,
   "id": "968a6b00",
   "metadata": {},
   "outputs": [
    {
     "name": "stdout",
     "output_type": "stream",
     "text": [
      "50\n"
     ]
    }
   ],
   "source": [
    "class Rectangle() :\n",
    "    def __init__(self, l, w) :\n",
    "        self.lenght = l\n",
    "        self.width = w\n",
    "    def rectangle_area(self) :\n",
    "        return self.lenght*self.width\n",
    "r = Rectangle(5,10)\n",
    "print(r.rectangle_area())"
   ]
  },
  {
   "cell_type": "markdown",
   "id": "a931bdb2",
   "metadata": {},
   "source": [
    "### Exercise 5 "
   ]
  },
  {
   "cell_type": "code",
   "execution_count": 14,
   "id": "882de7e0",
   "metadata": {},
   "outputs": [
    {
     "name": "stdout",
     "output_type": "stream",
     "text": [
      "The area is : 25\n",
      "This is a : square\n"
     ]
    }
   ],
   "source": [
    "class Shape():\n",
    "    def __init__(self):\n",
    "        pass\n",
    "\n",
    "    def area(self):\n",
    "        return 0\n",
    "\n",
    "class Square():\n",
    "    def __init__(self,shape,length = 0):\n",
    "        self.shape = shape\n",
    "        self.length = length\n",
    "\n",
    "    def area(self):\n",
    "        return self.length*self.length\n",
    "\n",
    "s = Square('square',5)\n",
    "print('The area is :',s.area())      \n",
    "print('This is a :',s.shape)"
   ]
  },
  {
   "cell_type": "code",
   "execution_count": null,
   "id": "4727864a",
   "metadata": {},
   "outputs": [],
   "source": []
  },
  {
   "cell_type": "code",
   "execution_count": null,
   "id": "a0032a09",
   "metadata": {},
   "outputs": [],
   "source": []
  }
 ],
 "metadata": {
  "kernelspec": {
   "display_name": "Python 3 (ipykernel)",
   "language": "python",
   "name": "python3"
  },
  "language_info": {
   "codemirror_mode": {
    "name": "ipython",
    "version": 3
   },
   "file_extension": ".py",
   "mimetype": "text/x-python",
   "name": "python",
   "nbconvert_exporter": "python",
   "pygments_lexer": "ipython3",
   "version": "3.9.12"
  }
 },
 "nbformat": 4,
 "nbformat_minor": 5
}
